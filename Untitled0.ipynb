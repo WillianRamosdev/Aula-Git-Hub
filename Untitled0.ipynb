{
  "nbformat": 4,
  "nbformat_minor": 0,
  "metadata": {
    "colab": {
      "provenance": [],
      "authorship_tag": "ABX9TyOPIa5M0rKpDuLr7hwpPotN",
      "include_colab_link": true
    },
    "kernelspec": {
      "name": "python3",
      "display_name": "Python 3"
    },
    "language_info": {
      "name": "python"
    }
  },
  "cells": [
    {
      "cell_type": "markdown",
      "metadata": {
        "id": "view-in-github",
        "colab_type": "text"
      },
      "source": [
        "<a href=\"https://colab.research.google.com/github/WillianRamosdev/Aula-Git-Hub/blob/main/Untitled0.ipynb\" target=\"_parent\"><img src=\"https://colab.research.google.com/assets/colab-badge.svg\" alt=\"Open In Colab\"/></a>"
      ]
    },
    {
      "cell_type": "code",
      "execution_count": null,
      "metadata": {
        "id": "h9GCqhyGnHvP"
      },
      "outputs": [],
      "source": []
    },
    {
      "cell_type": "code",
      "source": [
        "# Instalar bibliotecas (executar uma vez)\n",
        "!pip install requests python-telegram-bot\n",
        "\n",
        "# Bot de Odds - Exemplo Simples\n",
        "import requests\n",
        "from telegram import Bot\n",
        "import time\n",
        "\n",
        "TELEGRAM_TOKEN = '7854741135:AAEsdxHL4AGfFQh6ZdbVqPfmw3aOFgka4lA'\n",
        "TELEGRAM_USER = '@Dev_willianramos'\n",
        "\n",
        "def buscar_odds():\n",
        "    # Exemplo de API de odds (fictícia para simular)\n",
        "    # Substituir depois pela real (ex: TheOddsAPI ou OddsAPI)\n",
        "    return {\n",
        "        \"jogo\": \"Flamengo x Palmeiras\",\n",
        "        \"mercado\": \"Mais de 2.5 gols\",\n",
        "        \"odd\": 2.20\n",
        "    }\n",
        "\n",
        "bot = Bot(token=TELEGRAM_TOKEN)\n",
        "\n",
        "while True:\n",
        "    alerta = buscar_odds()\n",
        "    msg = f\"📢 Alerta de Odd!\\nJogo: {alerta['jogo']}\\nMercado: {alerta['mercado']}\\nOdd: {alerta['odd']}\"\n",
        "    bot.send_message(chat_id=TELEGRAM_USER, text=msg)\n",
        "    time.sleep(3600)  # Verifica a cada 1h (ajuste como quiser)\n"
      ],
      "metadata": {
        "colab": {
          "base_uri": "https://localhost:8080/"
        },
        "id": "pZc_EQQ2okZ1",
        "outputId": "b622b8e0-ffb2-4e4e-cf76-57c00171ef89"
      },
      "execution_count": null,
      "outputs": [
        {
          "output_type": "stream",
          "name": "stdout",
          "text": [
            "Requirement already satisfied: requests in /usr/local/lib/python3.11/dist-packages (2.32.3)\n",
            "Collecting python-telegram-bot\n",
            "  Downloading python_telegram_bot-22.0-py3-none-any.whl.metadata (17 kB)\n",
            "Requirement already satisfied: charset-normalizer<4,>=2 in /usr/local/lib/python3.11/dist-packages (from requests) (3.4.1)\n",
            "Requirement already satisfied: idna<4,>=2.5 in /usr/local/lib/python3.11/dist-packages (from requests) (3.10)\n",
            "Requirement already satisfied: urllib3<3,>=1.21.1 in /usr/local/lib/python3.11/dist-packages (from requests) (2.4.0)\n",
            "Requirement already satisfied: certifi>=2017.4.17 in /usr/local/lib/python3.11/dist-packages (from requests) (2025.4.26)\n",
            "Requirement already satisfied: httpx~=0.27 in /usr/local/lib/python3.11/dist-packages (from python-telegram-bot) (0.28.1)\n",
            "Requirement already satisfied: anyio in /usr/local/lib/python3.11/dist-packages (from httpx~=0.27->python-telegram-bot) (4.9.0)\n",
            "Requirement already satisfied: httpcore==1.* in /usr/local/lib/python3.11/dist-packages (from httpx~=0.27->python-telegram-bot) (1.0.9)\n",
            "Requirement already satisfied: h11>=0.16 in /usr/local/lib/python3.11/dist-packages (from httpcore==1.*->httpx~=0.27->python-telegram-bot) (0.16.0)\n",
            "Requirement already satisfied: sniffio>=1.1 in /usr/local/lib/python3.11/dist-packages (from anyio->httpx~=0.27->python-telegram-bot) (1.3.1)\n",
            "Requirement already satisfied: typing_extensions>=4.5 in /usr/local/lib/python3.11/dist-packages (from anyio->httpx~=0.27->python-telegram-bot) (4.13.2)\n",
            "Downloading python_telegram_bot-22.0-py3-none-any.whl (673 kB)\n",
            "\u001b[2K   \u001b[90m━━━━━━━━━━━━━━━━━━━━━━━━━━━━━━━━━━━━━━━━\u001b[0m \u001b[32m673.5/673.5 kB\u001b[0m \u001b[31m9.9 MB/s\u001b[0m eta \u001b[36m0:00:00\u001b[0m\n",
            "\u001b[?25hInstalling collected packages: python-telegram-bot\n",
            "Successfully installed python-telegram-bot-22.0\n"
          ]
        },
        {
          "output_type": "stream",
          "name": "stderr",
          "text": [
            "<ipython-input-1-822c18b74797>:26: RuntimeWarning: coroutine 'Bot.send_message' was never awaited\n",
            "  bot.send_message(chat_id=TELEGRAM_USER, text=msg)\n",
            "RuntimeWarning: Enable tracemalloc to get the object allocation traceback\n"
          ]
        }
      ]
    }
  ]
}